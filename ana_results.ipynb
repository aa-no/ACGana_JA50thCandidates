{
 "cells": [
  {
   "cell_type": "code",
   "execution_count": 34,
   "metadata": {},
   "outputs": [],
   "source": [
    "# read json data_format.json\n",
    "import json\n",
    "import re\n",
    "\n",
    "with open('data_format.json') as f:\n",
    "    data = json.load(f)\n",
    "\n",
    "info = []\n",
    "for i in data:\n",
    "    loca = i['location']\n",
    "    if \"区\" in loca:\n",
    "        loca = re.split(r'\\d', loca, 1)[0]\n",
    "    elif '比例' in loca:\n",
    "        loca = loca[2:]+'地区'\n",
    "    \n",
    "    party = i['party']\n",
    "    works = i['q3_format']\n",
    "    censor = i['q1a']\n",
    "    \n",
    "    info.append([party, loca, works, censor])\n",
    "            "
   ]
  },
  {
   "cell_type": "code",
   "execution_count": 35,
   "metadata": {},
   "outputs": [
    {
     "data": {
      "text/plain": [
       "['どちらともいえない、答えない', '無回答', '法令で規制するべきではない', '法令で規制すべき']"
      ]
     },
     "execution_count": 35,
     "metadata": {},
     "output_type": "execute_result"
    }
   ],
   "source": [
    "all_party = list(set([i[0] for i in info]))\n",
    "all_loca = list(set([i[1] for i in info]))\n",
    "all_censor = list(set([i[3] for i in info]))\n",
    "all_censor"
   ]
  },
  {
   "cell_type": "code",
   "execution_count": 36,
   "metadata": {},
   "outputs": [],
   "source": [
    "all_top = ['攻殻機動隊シリーズ', '本宮ひろし作品', 'ジョジョの奇妙な冒険', 'ゴルゴ13', 'キングダム', '進撃の巨人', 'じゃりン子チエ', 'ドラゴンクエストシリーズ', 'ファイナルファンタジーシリーズ', 'めぞん一刻', '巨人の星', '火の鳥', 'ONE PIECE', 'ブラック・ジャック', 'ドラゴンボール', 'ドラえもん', '北斗の拳', '名探偵コナン', '鉄腕アトム', 'あしたのジョー', 'ジブリ作品', '三国志', 'HUNTER×HUNTER', '藤子不二雄作品', 'スパイファミリー', '弱虫ペダル', '転生したらスライムだった件', '僕のヒーローアカデミア', 'AKIRA', '呪術廻戦', 'はいからさんが通る', 'ドカベン', '信長の野望', '闇金ウシジマくん', '加治隆介の議', '推しの子', '赤龍王', '鬼滅の刃', 'エースをねらえ!', 'タイガーマスク', 'ブルーロック', 'こちら葛飾区亀有公園前派出所', 'サザエさん', '風の谷のナウシカ', '葬送のフリーレン', '天空の城ラピュタ', 'となりのトトロ', '宇宙戦艦ヤマト', '鋼の錬金術師', 'SLAM DUNK', 'キャプテン', 'アルプスの少女ハイジ', '映像研には手を出すな', '未来少年コナン', 'カムイ伝', 'はだしのゲン', '機動戦士ガンダム', 'スーパーマリオRPG']"
   ]
  },
  {
   "cell_type": "code",
   "execution_count": 37,
   "metadata": {},
   "outputs": [],
   "source": [
    "all_top_cn = [\n",
    "    '攻壳机动队系列', '本宫宏作品', 'JOJO的奇妙冒险', '骷髅13', '王者天下', '进击的巨人', '小麻烦千惠', '勇者斗恶龙系列', \n",
    "    '最终幻想系列', '相聚一刻', '巨人之星', '火之鸟', '海贼王', '怪医黑杰克', '七龙珠', '哆啦A梦', '北斗神拳', '名侦探柯南', \n",
    "    '铁臂阿童木', '明日之丈', '吉卜力作品', '三国志', '全职猎人', '藤子不二雄作品', '间谍过家家', '飙速宅男', \n",
    "    '关于我转生变成史莱姆这档事', '我的英雄学院', '阿基拉', '咒术回战', '窈窕淑女', '大饭桶', '信长之野望', \n",
    "    '暗金丑岛君', '政治最前线', '我推的孩子', '赤龙王', '鬼灭之刃', '网球甜心', '虎面人', '蓝色监狱', \n",
    "    '乌龙派出所', '海螺小姐', '风之谷', '葬送的芙莉莲', '天空之城', '龙猫', '宇宙战舰大和号', '钢之炼金术师', \n",
    "    '灌篮高手', '青少棒扬威记', '阿尔卑斯山的少女海蒂', '别对映像研出手', '未来少年柯南', '卡姆依传', '赤脚阿元', '机动战士高达', \n",
    "    '超级马里奥RPG'\n",
    "]"
   ]
  },
  {
   "cell_type": "code",
   "execution_count": 38,
   "metadata": {},
   "outputs": [
    {
     "data": {
      "text/plain": [
       "32"
      ]
     },
     "execution_count": 38,
     "metadata": {},
     "output_type": "execute_result"
    }
   ],
   "source": [
    "all_trans = dict(zip(all_top, all_top_cn))\n",
    "all_trans['ゴールデンカムイ'] = '黄金神威'\n",
    "all_trans['沈黙の艦隊'] = '沉默的舰队'\n",
    "all_trans['その他'] = '其他'\n",
    "all_trans['サンクチュアリ'] = '圣堂教父'\n",
    "all_trans['3月のライオン'] = '3月的狮子'\n",
    "all_trans['ポケモン'] = '宝可梦'\n",
    "all_trans['君の名は。'] = '你的名字'\n",
    "all_trans['島耕作シリーズ'] = '岛耕作系列'\n",
    "all_trans['ハイキュー!!'] = '排球少年'\n",
    "all_trans['ヒカルの碁'] = '棋魂'\n",
    "all_trans['ウマ娘'] = '赛马娘'\n",
    "\n",
    "new_top = ['沈黙の艦隊', 'ゴールデンカムイ', '宇宙戦艦ヤマト', 'HUNTER×HUNTER', '鉄腕アトム', 'となりのトトロ', 'ジョジョの奇妙な冒険', 'ファイナルファンタジーシリーズ', '推しの子', '巨人の星', '加治隆介の議', 'ドカベン', '葬送のフリーレン', 'こちら葛飾区亀有公園前派出所', '三国志', '北斗の拳', 'ゴルゴ13', '機動戦士ガンダム', 'はだしのゲン', '進撃の巨人', 'サザエさん', '火の鳥', '風の谷のナウシカ', 'あしたのジョー', 'ドラゴンクエストシリーズ', 'ドラゴンボール', 'ブラック・ジャック', 'ドラえもん', 'SLAM DUNK', '鬼滅の刃', 'キングダム', 'ONE PIECE']\n",
    "\n",
    "new_top.reverse()\n",
    "new_top_cn = [all_trans[i] for i in new_top]\n",
    "len(new_top)"
   ]
  },
  {
   "cell_type": "code",
   "execution_count": 39,
   "metadata": {},
   "outputs": [],
   "source": [
    "import seaborn as sns\n",
    "palette = sns.color_palette('dark') + sns.color_palette('bright') + sns.color_palette('pastel')\n",
    "palette.append('gold')\n",
    "palette.append('black')"
   ]
  },
  {
   "cell_type": "code",
   "execution_count": 40,
   "metadata": {},
   "outputs": [],
   "source": [
    "default_color = '#1f7790'\n",
    "\n",
    "color = {}\n",
    "color_ja = {}\n",
    "for i in range(len(new_top)):\n",
    "    color[new_top_cn[i]] = palette[i]\n",
    "    color_ja[new_top[i]] = palette[i]\n",
    "color_ja['その他'] = default_color\n",
    "color['其他'] = default_color"
   ]
  },
  {
   "cell_type": "code",
   "execution_count": 41,
   "metadata": {},
   "outputs": [],
   "source": [
    "import matplotlib.pyplot as plt\n",
    "from collections import Counter\n",
    "plt.rcParams['font.sans-serif'] = ['Noto Sans CJK JP']\n",
    "\n",
    "def ana_works_for_label(typ,label,info,img='pdf',lang='zh'):\n",
    "    if lang == 'zh':\n",
    "        my_color = color\n",
    "        other_label = '其他'\n",
    "    else:\n",
    "        my_color = color_ja\n",
    "        other_label = 'その他'\n",
    "\n",
    "    works = []\n",
    "    for i in info:\n",
    "        if typ == 'all':\n",
    "            works.append(i[2])\n",
    "            label = 'ALL'\n",
    "        else:\n",
    "            if typ == 'party':\n",
    "                check = i[0]\n",
    "            elif typ == 'location':\n",
    "                check = i[1]\n",
    "            elif typ == 'censorship':\n",
    "                check = i[3]\n",
    "            if check == label:\n",
    "                works.append(i[2])\n",
    "\n",
    "    non_empty_count = sum(1 for sublist in works if len(sublist) > 0)\n",
    "    if non_empty_count == 0:\n",
    "        print(f'{label} is empty')\n",
    "        return\n",
    "    \n",
    "    flat_list = [item for sublist in works for item in sublist]\n",
    "    counter = Counter(flat_list)\n",
    "\n",
    "    # 将统计结果转换为两个列表\n",
    "    labels, values = zip(*counter.items())\n",
    "    if lang == 'zh':\n",
    "        labels = [all_trans.get(i, i) for i in labels]\n",
    "\n",
    "    # 按照出现次数升序排序\n",
    "    indSort = sorted(range(len(values)), key=lambda i: values[i])\n",
    "    labels = [labels[i] for i in indSort]\n",
    "    values = [values[i] for i in indSort]\n",
    "\n",
    "    # #设置中文字体\n",
    "    plt.rcParams['font.sans-serif'] = ['Noto Sans CJK JP']\n",
    "\n",
    "    # 绘制统计图,忽略出现次数为1的作品\n",
    "    # values = [i for i in values if i > 1]\n",
    "    # labels = labels[:len(values)]\n",
    "    plt.figure(figsize=(10, len(labels)/5))  # 加长图片高度\n",
    "    bars = plt.barh(labels, values)\n",
    "    plt.xlabel('Counts')\n",
    "    # plt.ylabel('Title')\n",
    "    plt.title(f'{label}（有効{non_empty_count}人/{len(works)}人）')\n",
    "    plt.margins(y=0.002)\n",
    "    plt.ioff()\n",
    "    # 在柱状图旁写上具体出现次数\n",
    "    for bar, lab, val in zip(bars, labels, values):\n",
    "        c = my_color.get(lab, default_color)\n",
    "        bar.set_color(c)  # 'b' is the default color if the label is not in the color dictionary\n",
    "    for bar in bars:\n",
    "        plt.text(bar.get_width(), bar.get_y() + bar.get_height()/2, f'{bar.get_width()}', va='center')\n",
    "\n",
    "    # 画饼图\n",
    "\n",
    "    if typ == 'all':\n",
    "        plt.savefig(f'results/{label}.{img}', bbox_inches='tight')\n",
    "        # return labels[-30:]\n",
    "    else:\n",
    "        plt.savefig(f'results/{typ}/{label}.{img}', bbox_inches='tight')\n",
    "        # return labels[-10:]\n",
    "    \n",
    "    if typ != 'location':\n",
    "        plt.clf()\n",
    "        new_values = []\n",
    "        new_labels = []\n",
    "        other_value = 0\n",
    "\n",
    "        if typ == 'all':\n",
    "            threshold = 8\n",
    "        else:\n",
    "            threshold = sum(values)*0.01\n",
    "\n",
    "        for val, lab in zip(values, labels):\n",
    "            if val < threshold:\n",
    "                other_value += val\n",
    "            else:\n",
    "                new_values.append(val)\n",
    "                new_labels.append(lab)\n",
    "\n",
    "        if other_value > 0:\n",
    "            new_values.append(other_value)\n",
    "            # new_labels.append('その他')\n",
    "            new_labels.append(other_label)\n",
    "\n",
    "        # 绘制饼图\n",
    "        plt.figure(figsize=(10, 10))\n",
    "        patches, _, _ = plt.pie(new_values, labels=new_labels, autopct='', startangle=0)\n",
    "        plt.axis('equal')\n",
    "        plt.title(f'{label}（有効{non_empty_count}人/{len(works)}人）', pad=20)\n",
    "\n",
    "        # 按照color字典修改颜色\n",
    "        for i, p in enumerate(patches):\n",
    "            if new_labels[i] in my_color:\n",
    "                p.set_facecolor(my_color[new_labels[i]])\n",
    "        plt.ioff()\n",
    "        if typ == 'all':\n",
    "            plt.savefig(f'results/pie_{label}.{img}', bbox_inches='tight')\n",
    "        else:\n",
    "            plt.savefig(f'results/{typ}/pie_{label}.{img}', bbox_inches='tight')\n",
    "        "
   ]
  },
  {
   "cell_type": "code",
   "execution_count": 42,
   "metadata": {},
   "outputs": [
    {
     "data": {
      "text/plain": [
       "<contextlib.ExitStack at 0x7fbdde8a2ed0>"
      ]
     },
     "execution_count": 42,
     "metadata": {},
     "output_type": "execute_result"
    }
   ],
   "source": [
    "plt.ioff()"
   ]
  },
  {
   "cell_type": "code",
   "execution_count": 43,
   "metadata": {},
   "outputs": [],
   "source": [
    "lang = 'zh'\n",
    "img = 'png'\n",
    "\n",
    "ana_works_for_label('all',None,info,img,lang)"
   ]
  },
  {
   "cell_type": "code",
   "execution_count": 44,
   "metadata": {},
   "outputs": [
    {
     "name": "stdout",
     "output_type": "stream",
     "text": [
      "四国地区 is empty\n",
      "無回答 is empty\n"
     ]
    }
   ],
   "source": [
    "for i in all_party:\n",
    "    ana_works_for_label('party',i,info,img,lang)\n",
    "for i in all_loca:\n",
    "    ana_works_for_label('location',i,info,img,lang)\n",
    "for i in all_censor:\n",
    "    ana_works_for_label('censorship',i,info,img,lang)"
   ]
  }
 ],
 "metadata": {
  "kernelspec": {
   "display_name": "base",
   "language": "python",
   "name": "python3"
  },
  "language_info": {
   "codemirror_mode": {
    "name": "ipython",
    "version": 3
   },
   "file_extension": ".py",
   "mimetype": "text/x-python",
   "name": "python",
   "nbconvert_exporter": "python",
   "pygments_lexer": "ipython3",
   "version": "3.11.5"
  }
 },
 "nbformat": 4,
 "nbformat_minor": 2
}
